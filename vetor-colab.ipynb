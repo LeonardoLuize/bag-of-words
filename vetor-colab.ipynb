{
  "nbformat": 4,
  "nbformat_minor": 0,
  "metadata": {
    "colab": {
      "provenance": [],
      "collapsed_sections": [],
      "authorship_tag": "ABX9TyP2qmUvFI3d0eyrwl0Z80c5",
      "include_colab_link": true
    },
    "kernelspec": {
      "name": "python3",
      "display_name": "Python 3"
    },
    "language_info": {
      "name": "python"
    }
  },
  "cells": [
    {
      "cell_type": "markdown",
      "metadata": {
        "id": "view-in-github",
        "colab_type": "text"
      },
      "source": [
        "<a href=\"https://colab.research.google.com/github/LeonardoLuize/bag-of-words/blob/main/vetor-colab.ipynb\" target=\"_parent\"><img src=\"https://colab.research.google.com/assets/colab-badge.svg\" alt=\"Open In Colab\"/></a>"
      ]
    },
    {
      "cell_type": "code",
      "execution_count": null,
      "metadata": {
        "colab": {
          "base_uri": "https://localhost:8080/"
        },
        "id": "rIVjgKbX2ojS",
        "outputId": "adc0ea59-2b8f-449f-b98f-b3ee8dd9959c"
      },
      "outputs": [
        {
          "output_type": "stream",
          "name": "stdout",
          "text": [
            "ok\n"
          ]
        }
      ],
      "source": [
        "import spacy\n",
        "import requests\n",
        "import re\n",
        "from bs4 import BeautifulSoup\n",
        "#criar uma variável para armazenar no modelo\n",
        "nlp=spacy.load(\"en_core_web_sm\")\n",
        "print(\"ok\")"
      ]
    },
    {
      "cell_type": "code",
      "source": [
        "# Leonardo Luize\n",
        "\n",
        "#A página web (url) deve apontar para uma página web em inglês contendo, não menos que 1000 palavras.\n",
        "#O texto desta página deverá ser transformado em um array de senteças.\n",
        "\n",
        "site1 = requests.get(\"https://en.wikipedia.org/wiki/English_Wikipedia\")\n",
        "site2 = requests.get(\"https://en.wikipedia.org/wiki/Marilyn_Monroe\")\n",
        "site3 = requests.get(\"https://en.wikipedia.org/wiki/British_English\")\n",
        "site4 = requests.get(\"https://en.wikipedia.org/wiki/Elvis_Presley\")\n",
        "site5 = requests.get(\"https://en.wikipedia.org/wiki/Spanish_conquest_of_Pet%C3%A9n\")\n",
        "\n",
        "print(\"ok\")"
      ],
      "metadata": {
        "colab": {
          "base_uri": "https://localhost:8080/"
        },
        "id": "oWhHfHKd67Q3",
        "outputId": "e38721ff-a7ea-4751-d19e-23a67e1cb684"
      },
      "execution_count": null,
      "outputs": [
        {
          "output_type": "stream",
          "name": "stdout",
          "text": [
            "ok\n"
          ]
        }
      ]
    },
    {
      "cell_type": "code",
      "source": [
        "def get_site_texts(site):\n",
        "  return BeautifulSoup(site.text, 'html.parser').find_all('p')[2].get_text()\n",
        "\n",
        "site_text1 = get_site_texts(site1)\n",
        "site_text2 = get_site_texts(site2)\n",
        "site_text3 = get_site_texts(site3)\n",
        "site_text4 = get_site_texts(site4)\n",
        "site_text5 = get_site_texts(site5)\n",
        "\n",
        "print(\"ok\")"
      ],
      "metadata": {
        "colab": {
          "base_uri": "https://localhost:8080/"
        },
        "id": "8Z4Ks5zTxA40",
        "outputId": "d75a7ac5-81d6-4994-d1b0-e50352fb5964"
      },
      "execution_count": null,
      "outputs": [
        {
          "output_type": "stream",
          "name": "stdout",
          "text": [
            "ok\n"
          ]
        }
      ]
    },
    {
      "cell_type": "code",
      "source": [
        "def gerar_array_sentencas(txt):\n",
        "  doc = nlp(txt)\n",
        "  return [doc.orth_ for doc in doc if not doc.is_punct]\n",
        "\n",
        "array_sentences1 = gerar_array_sentencas(site_text1)\n",
        "array_sentences2 = gerar_array_sentencas(site_text2)\n",
        "array_sentences3 = gerar_array_sentencas(site_text3)\n",
        "array_sentences4 = gerar_array_sentencas(site_text4)\n",
        "array_sentences5 = gerar_array_sentencas(site_text5)\n",
        "\n",
        "print(\"ok\")"
      ],
      "metadata": {
        "colab": {
          "base_uri": "https://localhost:8080/"
        },
        "id": "8FJr79xB6JuV",
        "outputId": "ee0494a3-f19f-4707-c3f3-7212aa5bd790"
      },
      "execution_count": null,
      "outputs": [
        {
          "output_type": "stream",
          "name": "stdout",
          "text": [
            "ok\n"
          ]
        }
      ]
    },
    {
      "cell_type": "code",
      "source": [
        "# Leonardo Luize\n",
        "\n",
        "''' \n",
        "Sua tarefa será gerar a matriz termo documento, dos documentos recuperados da internet e \n",
        "imprimir esta matriz na tela. Para tanto:\n",
        "\n",
        "a) Considere que todas as listas de sentenças devem ser transformadas em listas de vetores, \n",
        "onde cada item será uma das palavras da sentença. \n",
        "\n",
        "b) Todos  os  vetores  devem  ser  unidos  em  um  corpus  único  formando  uma  lista  de  vetores, \n",
        "onde cada item será um lexema.  \n",
        "\n",
        "c) Este único corpus será usado para gerar o vocabulário. \n",
        "'''\n",
        "\n",
        "vocabulary = list(set(array_sentences1 + array_sentences2 + array_sentences3 + array_sentences4 + array_sentences5))\n",
        "\n",
        "print(vocabulary)"
      ],
      "metadata": {
        "colab": {
          "base_uri": "https://localhost:8080/"
        },
        "id": "zolVRH406DAy",
        "outputId": "59d0cfa3-7f17-4458-944a-3fdbab678115"
      },
      "execution_count": null,
      "outputs": [
        {
          "output_type": "stream",
          "name": "stdout",
          "text": [
            "['now', 'resulted', 'considerably', 'defeat', 'Memphis', 'photographer', 'Clash', 'Americans[6', 'married', 'native', 'on', 'World', 'a', 'wanted', 'where', 'Tom', 'film', 'figure', 'Sam', 'increased', '50', 'dramas', 'into', 'rockabilly', 'colonisers', 'dense', 'signed', 'Guatemalan', 'War', 'faced', 'You', 'stage', 'to', 'though', 'first', 'as', 'Pictures', 'both', 'D.', 'As', 'European', '2003.[2][3', 'with', 'up', 'in', 'concept', '1955', 'Picture', 'de', 'Phillips', 'posed', 'this', '1950', 'conflict', 'Nojpetén', 'spent', 'rhythm', 'A', 'Yorkshire', 'classic', 'She', 'capture', 'Moore', 'singles', 'Fontana', 'chart', 'Scotland', 'minor', 'old', 'several', 'sound', 'south', 'described', 'In', 'incorporated', 'kingdom', 'moral', 'more', 'spoken', 'Fox', 'language', 'damage', 'Wikipedias', 'for', 'year', 'Guatemala', 'independent', 'Heartbreak', 'Born', 'Within', 'Black', 'almost', 'his', 'instead', 'vary', 'could', 'Columbia', 'actress', 'nears', '1956', 'edit', 'October', 'one', 'lakes', 'factory', 'driven', 'leading', 'marginalized', 'pioneer', 'quartet', 'appearances', 'roll', 'story', 'revealed', 'J.', 'unconquered', 'Simple', 'conquest', \"n't\", 'new', 'prior', 'all', 'Night', 'performative', 'savannah', 'he', 'Presley', 'him', 'homes', 'childhood', 'guitar', 'born', 'number', 'exist', 'prolonged', 'country', 'next', 'world', 'Northern', 'belong', 'share', 'written', 'along', 'Los', 'popular', 'Mississippi', 'then', 'Bother', 'modern', 'newly', 'was', 'elsewhere', 'so', 'predominant', 'her', 'short', 'region', 'topping', 'would', 'the', 'Unit', 'climaxed', 'adjective', 'crossed', 'For', 'any', 'widely', 'pin', 'nude', '20th', 'during', 'being', 'drainage', 'met', 'most', 'at', 'drummer', 'Hotel', 'network', '6,563,538.[1', 'contains', 'accompanied', 'which', 'England', 'acoustic', 'interest', 'rises', 'music', 'Angeles', 'North', 'audience', 'Colonel', 'The', 'January', 'little', 'years', 'she', 'formal', 'age', 'plain', 'African', 'difficult', 'blues', 'Ireland', 'forms', 'term', 'whereas', 'guitarist', 'Itza', '\\n', 'within', 'English', 'uptempo', 'by', 'used', 'basin', 'had', 'bring', 'there', 'joined', 'when', 'be', 'United', 'became', 'family', 'Petén', 'Over', 'ranges', 'editions', 'fusion', '2021.[4', 'an', 'It', 'rainforest', 'Knock', 'capital', 'Feel', 'lowland', 'television', 'exclusively', 'Arizmendi', 'Ursúa', 'Century', 'Variations', 'well', 'RCA', 'Do', 'karstic', 'online', 'lived', 'career', 'including', 'lineup', 'million', 'central', 'White', '11', 'island', 'but', 'sixteen', 'scandal', 'comedies', 'youth.[7', 'Sun', 'Scotty', 'degree', 'After', 'Tupelo', 'apply', 'single', 'occasionally', 'encyclopedia', 'manage', 'star', 'rock', 'fell', 'arranged', 'uniformity', 'it', 'Monkey', 'hit', 'records', '13', 'contracts', 'Parker', 'photographs', 'covered', 'Nevertheless', 'than', 'spoken[8', 'areas', 'deal', 'not', 'acquired', 'wee', 'style', 'founded', 'II', 'meaningful', 'British', 'relocated', 'did', 'that', 'series', 'sell', 'billionth', 'Highlands', 'considered', 'made', 'decades', 'producer', 'however', 'backbeat', 'ten', 'two', 'Tennessee', 'promotion', 'hills', 'lead', 'uniform', 'led', ' ', 'of', 'Monroe', 'orphanage', 'other', 'East', 'colonisation', \"'s\", 'has', 'Records', 'becoming', 'Kingdom', 'who', 'foster', 'late', 'last', 'working', 'parts', 'bassist', 'is', 'Spanish', 'First', 'Martín', 'low', 'Young', 'Victor', 'Business', 'wider', 'roles', '2001', 'wide', 'Americas', 'His', 'Motion', 'complete', 'Bill', 'successful', 'threat', 'raised', '15', 'republic', 'films', 'American', '1697', 'y', 'began', '18', 'With', 'and', 'from', 'edition', 'contract', 'recording', '2022', '1954', 'States', 'example', 'released', 'articles', 'Wikipedia', 'modeling']\n"
          ]
        }
      ]
    },
    {
      "cell_type": "code",
      "source": [
        "''' \n",
        "d) O  resultado  esperado  será  uma  matriz  termo  documento  criada  a  partir  da  aplicação  da \n",
        "técnica bag of Words em todo o corpus.\n",
        "'''\n",
        "\n",
        "matrix = [vocabulary]\n",
        "\n",
        "def get_array_ocurrency(sentences, vocabulary):\n",
        "  sentence_matrix = []\n",
        "  for word in vocabulary:\n",
        "    occurency = 0\n",
        "    for sentence in sentences:\n",
        "      if sentence == word:\n",
        "        occurency += 1\n",
        "\n",
        "    sentence_matrix.append(occurency)\n",
        "\n",
        "  return sentence_matrix\n",
        "\n",
        "matrix.append(get_array_ocurrency(array_sentences1, vocabulary))\n",
        "matrix.append(get_array_ocurrency(array_sentences2, vocabulary))\n",
        "matrix.append(get_array_ocurrency(array_sentences3, vocabulary))\n",
        "matrix.append(get_array_ocurrency(array_sentences4, vocabulary))\n",
        "matrix.append(get_array_ocurrency(array_sentences5, vocabulary))\n",
        "\n",
        "print(matrix[0])\n",
        "print(matrix[1])\n",
        "print(matrix[2])\n",
        "print(matrix[3])\n",
        "print(matrix[4])"
      ],
      "metadata": {
        "colab": {
          "base_uri": "https://localhost:8080/"
        },
        "id": "GLwRu_fSAv6Q",
        "outputId": "9226aacc-ba6a-4998-d1d4-3009a682bac9"
      },
      "execution_count": null,
      "outputs": [
        {
          "output_type": "stream",
          "name": "stdout",
          "text": [
            "['now', 'resulted', 'considerably', 'defeat', 'Memphis', 'photographer', 'Clash', 'Americans[6', 'married', 'native', 'on', 'World', 'a', 'wanted', 'where', 'Tom', 'film', 'figure', 'Sam', 'increased', '50', 'dramas', 'into', 'rockabilly', 'colonisers', 'dense', 'signed', 'Guatemalan', 'War', 'faced', 'You', 'stage', 'to', 'though', 'first', 'as', 'Pictures', 'both', 'D.', 'As', 'European', '2003.[2][3', 'with', 'up', 'in', 'concept', '1955', 'Picture', 'de', 'Phillips', 'posed', 'this', '1950', 'conflict', 'Nojpetén', 'spent', 'rhythm', 'A', 'Yorkshire', 'classic', 'She', 'capture', 'Moore', 'singles', 'Fontana', 'chart', 'Scotland', 'minor', 'old', 'several', 'sound', 'south', 'described', 'In', 'incorporated', 'kingdom', 'moral', 'more', 'spoken', 'Fox', 'language', 'damage', 'Wikipedias', 'for', 'year', 'Guatemala', 'independent', 'Heartbreak', 'Born', 'Within', 'Black', 'almost', 'his', 'instead', 'vary', 'could', 'Columbia', 'actress', 'nears', '1956', 'edit', 'October', 'one', 'lakes', 'factory', 'driven', 'leading', 'marginalized', 'pioneer', 'quartet', 'appearances', 'roll', 'story', 'revealed', 'J.', 'unconquered', 'Simple', 'conquest', \"n't\", 'new', 'prior', 'all', 'Night', 'performative', 'savannah', 'he', 'Presley', 'him', 'homes', 'childhood', 'guitar', 'born', 'number', 'exist', 'prolonged', 'country', 'next', 'world', 'Northern', 'belong', 'share', 'written', 'along', 'Los', 'popular', 'Mississippi', 'then', 'Bother', 'modern', 'newly', 'was', 'elsewhere', 'so', 'predominant', 'her', 'short', 'region', 'topping', 'would', 'the', 'Unit', 'climaxed', 'adjective', 'crossed', 'For', 'any', 'widely', 'pin', 'nude', '20th', 'during', 'being', 'drainage', 'met', 'most', 'at', 'drummer', 'Hotel', 'network', '6,563,538.[1', 'contains', 'accompanied', 'which', 'England', 'acoustic', 'interest', 'rises', 'music', 'Angeles', 'North', 'audience', 'Colonel', 'The', 'January', 'little', 'years', 'she', 'formal', 'age', 'plain', 'African', 'difficult', 'blues', 'Ireland', 'forms', 'term', 'whereas', 'guitarist', 'Itza', '\\n', 'within', 'English', 'uptempo', 'by', 'used', 'basin', 'had', 'bring', 'there', 'joined', 'when', 'be', 'United', 'became', 'family', 'Petén', 'Over', 'ranges', 'editions', 'fusion', '2021.[4', 'an', 'It', 'rainforest', 'Knock', 'capital', 'Feel', 'lowland', 'television', 'exclusively', 'Arizmendi', 'Ursúa', 'Century', 'Variations', 'well', 'RCA', 'Do', 'karstic', 'online', 'lived', 'career', 'including', 'lineup', 'million', 'central', 'White', '11', 'island', 'but', 'sixteen', 'scandal', 'comedies', 'youth.[7', 'Sun', 'Scotty', 'degree', 'After', 'Tupelo', 'apply', 'single', 'occasionally', 'encyclopedia', 'manage', 'star', 'rock', 'fell', 'arranged', 'uniformity', 'it', 'Monkey', 'hit', 'records', '13', 'contracts', 'Parker', 'photographs', 'covered', 'Nevertheless', 'than', 'spoken[8', 'areas', 'deal', 'not', 'acquired', 'wee', 'style', 'founded', 'II', 'meaningful', 'British', 'relocated', 'did', 'that', 'series', 'sell', 'billionth', 'Highlands', 'considered', 'made', 'decades', 'producer', 'however', 'backbeat', 'ten', 'two', 'Tennessee', 'promotion', 'hills', 'lead', 'uniform', 'led', ' ', 'of', 'Monroe', 'orphanage', 'other', 'East', 'colonisation', \"'s\", 'has', 'Records', 'becoming', 'Kingdom', 'who', 'foster', 'late', 'last', 'working', 'parts', 'bassist', 'is', 'Spanish', 'First', 'Martín', 'low', 'Young', 'Victor', 'Business', 'wider', 'roles', '2001', 'wide', 'Americas', 'His', 'Motion', 'complete', 'Bill', 'successful', 'threat', 'raised', '15', 'republic', 'films', 'American', '1697', 'y', 'began', '18', 'With', 'and', 'from', 'edition', 'contract', 'recording', '2022', '1954', 'States', 'example', 'released', 'articles', 'Wikipedia', 'modeling']\n",
            "[0, 0, 0, 0, 0, 0, 0, 0, 0, 0, 2, 0, 0, 0, 0, 0, 0, 0, 0, 0, 1, 0, 0, 0, 0, 0, 0, 0, 0, 0, 0, 0, 1, 0, 1, 2, 0, 0, 0, 1, 0, 1, 1, 0, 2, 0, 0, 0, 0, 0, 0, 1, 0, 0, 0, 0, 0, 0, 0, 0, 0, 0, 0, 0, 0, 0, 0, 0, 0, 0, 0, 0, 0, 0, 0, 0, 0, 1, 0, 0, 2, 0, 1, 0, 0, 0, 0, 0, 0, 0, 0, 0, 0, 0, 0, 0, 0, 0, 0, 0, 1, 2, 2, 0, 0, 0, 0, 0, 0, 0, 0, 0, 0, 0, 0, 0, 1, 0, 0, 0, 0, 1, 0, 0, 0, 0, 0, 0, 0, 0, 0, 0, 0, 0, 0, 0, 0, 0, 0, 1, 1, 0, 1, 0, 0, 0, 0, 0, 0, 0, 3, 0, 0, 0, 0, 0, 0, 0, 0, 3, 0, 0, 0, 0, 0, 1, 0, 0, 0, 0, 0, 0, 0, 0, 1, 1, 0, 0, 0, 1, 0, 0, 0, 0, 0, 0, 0, 0, 0, 0, 0, 0, 2, 2, 0, 0, 0, 0, 0, 0, 0, 0, 0, 0, 0, 0, 0, 0, 0, 2, 0, 4, 0, 0, 0, 0, 0, 0, 0, 0, 0, 0, 0, 0, 0, 0, 0, 0, 1, 0, 1, 1, 1, 0, 0, 0, 0, 0, 0, 0, 0, 0, 0, 0, 0, 0, 0, 0, 1, 0, 0, 0, 0, 0, 0, 0, 1, 0, 0, 0, 0, 0, 0, 0, 0, 0, 0, 0, 0, 0, 0, 1, 0, 0, 0, 0, 0, 0, 0, 0, 0, 0, 1, 0, 0, 0, 0, 0, 1, 0, 0, 0, 0, 0, 0, 0, 1, 0, 0, 0, 0, 0, 0, 0, 0, 1, 0, 0, 1, 0, 0, 0, 0, 0, 1, 0, 0, 0, 0, 0, 0, 0, 6, 0, 0, 0, 0, 0, 2, 1, 0, 0, 0, 0, 0, 0, 0, 0, 0, 0, 1, 0, 0, 0, 0, 0, 0, 0, 0, 0, 1, 0, 0, 0, 0, 0, 0, 0, 0, 0, 1, 0, 0, 0, 0, 0, 0, 1, 0, 1, 0, 4, 0, 0, 2, 0, 0, 0, 0, 2, 4, 0]\n",
            "[0, 1, 0, 0, 0, 1, 1, 0, 1, 0, 0, 1, 8, 0, 0, 0, 2, 0, 0, 1, 0, 1, 0, 0, 0, 0, 1, 0, 1, 1, 1, 0, 3, 0, 0, 1, 1, 0, 0, 1, 0, 0, 3, 1, 8, 0, 0, 1, 0, 0, 1, 0, 1, 0, 0, 1, 0, 0, 0, 0, 2, 0, 0, 0, 0, 0, 0, 1, 0, 1, 0, 0, 0, 0, 0, 0, 0, 0, 0, 2, 0, 1, 0, 1, 0, 0, 0, 0, 1, 0, 0, 0, 0, 1, 0, 0, 1, 1, 0, 0, 0, 0, 0, 0, 1, 0, 0, 0, 0, 0, 0, 0, 1, 1, 0, 0, 0, 0, 1, 1, 1, 0, 1, 0, 0, 0, 0, 0, 1, 1, 0, 0, 0, 0, 0, 0, 1, 0, 0, 0, 0, 0, 0, 1, 1, 0, 0, 1, 0, 0, 2, 0, 0, 0, 3, 1, 0, 0, 0, 4, 1, 0, 0, 0, 0, 0, 0, 1, 1, 1, 1, 0, 0, 1, 1, 1, 0, 0, 0, 0, 0, 0, 1, 0, 0, 1, 0, 0, 1, 0, 0, 0, 0, 0, 0, 1, 5, 0, 1, 0, 0, 0, 0, 0, 0, 0, 0, 0, 0, 1, 0, 0, 0, 1, 0, 0, 1, 0, 0, 0, 2, 0, 0, 1, 0, 0, 1, 0, 0, 0, 0, 1, 0, 0, 1, 0, 1, 0, 0, 0, 0, 0, 1, 0, 0, 0, 1, 0, 0, 1, 2, 1, 0, 0, 0, 0, 0, 0, 1, 1, 1, 1, 0, 0, 0, 0, 1, 0, 0, 0, 0, 0, 0, 1, 0, 0, 0, 0, 1, 1, 0, 0, 0, 1, 0, 1, 0, 0, 0, 0, 0, 0, 1, 0, 0, 0, 0, 1, 0, 0, 0, 1, 1, 1, 0, 0, 0, 0, 0, 0, 0, 0, 0, 0, 1, 0, 0, 0, 0, 0, 1, 0, 2, 1, 1, 0, 0, 0, 0, 0, 0, 1, 0, 0, 1, 1, 0, 1, 0, 0, 0, 0, 1, 0, 0, 1, 0, 1, 0, 2, 0, 0, 0, 0, 1, 0, 0, 1, 0, 1, 0, 0, 1, 0, 0, 0, 1, 0, 0, 8, 1, 0, 1, 0, 0, 0, 0, 0, 0, 0, 0, 1]\n",
            "[0, 0, 1, 0, 0, 0, 0, 0, 0, 0, 0, 0, 2, 0, 1, 0, 0, 0, 0, 0, 0, 0, 0, 0, 0, 0, 0, 0, 0, 0, 0, 0, 2, 0, 0, 0, 0, 1, 0, 0, 0, 0, 0, 0, 5, 1, 0, 0, 0, 0, 0, 1, 0, 0, 0, 0, 0, 0, 1, 0, 0, 0, 0, 0, 0, 0, 1, 0, 0, 0, 0, 0, 1, 0, 0, 0, 0, 2, 3, 0, 1, 0, 0, 0, 0, 0, 0, 0, 0, 0, 0, 1, 0, 0, 1, 1, 0, 0, 0, 0, 0, 0, 0, 0, 0, 0, 0, 0, 0, 0, 0, 0, 0, 0, 0, 0, 0, 0, 0, 0, 0, 0, 0, 0, 0, 0, 0, 0, 0, 0, 0, 0, 0, 1, 0, 0, 0, 1, 1, 0, 0, 2, 0, 0, 0, 0, 0, 0, 0, 0, 0, 1, 1, 1, 0, 0, 0, 0, 0, 7, 0, 0, 2, 0, 1, 0, 0, 0, 0, 0, 0, 0, 0, 0, 1, 0, 0, 0, 0, 0, 0, 0, 0, 1, 0, 0, 0, 0, 0, 1, 0, 0, 1, 0, 1, 0, 0, 1, 0, 0, 0, 1, 0, 2, 1, 1, 1, 0, 0, 1, 1, 6, 0, 1, 1, 0, 0, 0, 1, 0, 0, 1, 2, 0, 0, 0, 0, 0, 0, 0, 0, 0, 0, 0, 0, 0, 0, 0, 0, 1, 0, 0, 0, 1, 0, 0, 0, 0, 0, 0, 0, 0, 0, 0, 0, 0, 0, 0, 0, 0, 0, 0, 0, 0, 0, 1, 0, 0, 1, 0, 1, 0, 0, 0, 0, 0, 0, 1, 0, 0, 0, 0, 0, 0, 0, 0, 0, 1, 1, 1, 1, 0, 0, 0, 1, 0, 0, 0, 1, 2, 0, 0, 0, 0, 0, 0, 0, 0, 0, 0, 0, 1, 0, 0, 0, 0, 0, 0, 0, 1, 0, 1, 5, 0, 0, 1, 1, 0, 0, 0, 0, 0, 2, 0, 0, 0, 0, 0, 1, 0, 5, 0, 0, 0, 0, 0, 0, 0, 0, 0, 0, 0, 0, 0, 0, 0, 0, 0, 0, 0, 0, 0, 0, 0, 0, 0, 0, 0, 0, 4, 0, 0, 0, 0, 0, 0, 0, 1, 0, 0, 0, 0]\n",
            "[0, 0, 0, 0, 1, 0, 0, 1, 0, 0, 1, 0, 7, 1, 0, 1, 0, 1, 1, 0, 0, 0, 0, 1, 0, 0, 0, 0, 0, 0, 0, 0, 6, 1, 1, 0, 0, 0, 1, 0, 0, 0, 2, 0, 5, 0, 1, 0, 0, 1, 0, 0, 0, 0, 0, 0, 2, 0, 0, 1, 0, 0, 1, 1, 1, 1, 0, 0, 1, 0, 3, 0, 0, 1, 0, 0, 1, 1, 0, 0, 0, 0, 0, 1, 1, 0, 0, 1, 0, 1, 1, 0, 3, 0, 0, 0, 0, 0, 0, 1, 0, 0, 1, 0, 0, 1, 1, 1, 1, 1, 1, 1, 0, 0, 1, 0, 0, 0, 0, 0, 0, 0, 0, 1, 0, 1, 6, 2, 0, 0, 1, 1, 1, 0, 0, 1, 0, 0, 0, 0, 0, 0, 0, 0, 1, 1, 1, 0, 0, 1, 4, 0, 0, 0, 0, 0, 0, 1, 2, 8, 0, 0, 0, 0, 0, 0, 1, 0, 0, 0, 0, 2, 0, 0, 0, 1, 1, 1, 1, 0, 0, 1, 0, 0, 1, 0, 0, 3, 0, 0, 1, 1, 0, 1, 0, 1, 0, 0, 0, 0, 2, 0, 1, 0, 0, 0, 0, 1, 0, 1, 0, 0, 1, 2, 0, 0, 0, 1, 1, 1, 1, 0, 1, 2, 1, 0, 0, 0, 0, 1, 0, 1, 0, 0, 0, 0, 0, 0, 1, 0, 0, 0, 0, 0, 1, 3, 0, 0, 0, 0, 1, 0, 1, 1, 0, 1, 0, 0, 0, 0, 0, 0, 1, 1, 1, 0, 0, 1, 0, 1, 0, 0, 1, 0, 1, 0, 1, 0, 0, 0, 1, 1, 1, 0, 1, 0, 0, 0, 1, 0, 0, 1, 0, 1, 0, 1, 0, 0, 0, 0, 1, 0, 0, 1, 1, 0, 0, 1, 0, 1, 1, 0, 1, 1, 1, 1, 1, 0, 1, 0, 1, 0, 10, 0, 0, 0, 0, 0, 2, 0, 1, 0, 0, 2, 0, 0, 0, 0, 0, 1, 0, 0, 0, 0, 0, 0, 2, 0, 1, 0, 0, 0, 0, 1, 0, 1, 1, 1, 1, 0, 0, 0, 0, 2, 0, 0, 1, 0, 1, 10, 0, 0, 1, 1, 0, 1, 1, 0, 1, 0, 0, 0]\n"
          ]
        }
      ]
    }
  ]
}